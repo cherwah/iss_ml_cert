{
 "cells": [
  {
   "cell_type": "markdown",
   "metadata": {},
   "source": [
    "Import all necessary modules in the code cell below."
   ]
  },
  {
   "cell_type": "code",
   "execution_count": 1,
   "metadata": {},
   "outputs": [],
   "source": []
  },
  {
   "cell_type": "markdown",
   "metadata": {},
   "source": [
    "Read in the \"cust_seg.csv\" file using Pandas' read_csv() function. \n",
    "\n",
    "Then drop the first column of the data (the one without a column-name). \n",
    "\n",
    "Use Pandas' head() function to view the first few records."
   ]
  },
  {
   "cell_type": "code",
   "execution_count": null,
   "metadata": {},
   "outputs": [],
   "source": []
  },
  {
   "cell_type": "markdown",
   "metadata": {},
   "source": [
    "Use describe() on your Pandas' dataframe to display a statistical summary of the dataset."
   ]
  },
  {
   "cell_type": "code",
   "execution_count": null,
   "metadata": {},
   "outputs": [],
   "source": []
  },
  {
   "cell_type": "markdown",
   "metadata": {},
   "source": [
    "Display 4 histograms to show the distributions for (a) Age, (b) Income, (c) Years Employed and (d) DebtIncomeRatio."
   ]
  },
  {
   "cell_type": "code",
   "execution_count": null,
   "metadata": {},
   "outputs": [],
   "source": []
  },
  {
   "cell_type": "markdown",
   "metadata": {},
   "source": [
    "Display the count (using seaborn's countplot()) to show the count difference between defaults and non-defaults. \n",
    "\n",
    "Print out the number of Default and Non-Default cases.\n",
    "\n",
    "Print out the percentage of Default cases."
   ]
  },
  {
   "cell_type": "code",
   "execution_count": null,
   "metadata": {},
   "outputs": [],
   "source": []
  },
  {
   "cell_type": "markdown",
   "metadata": {},
   "source": [
    "Using Seaborn's scatterplot() function, plot \"Years Employed\" (x-axis) vs \"Income\" (y-axis). \n",
    "\n",
    "Set the \"hue\" parameter of scatterplot() to match the \"Defaulted\" column of the data so that we can tell whether a data point on the plot is a Defaulted or Non-Defaulted case. \n",
    "\n",
    "Set the \"size\" parameter of scatterplot() to match the \"DebtIncomeRatio\" so that a record with high Debt Income Ratio will be rendered bigger than one with a smaller Debt Income Ratio."
   ]
  },
  {
   "cell_type": "code",
   "execution_count": null,
   "metadata": {},
   "outputs": [],
   "source": []
  },
  {
   "cell_type": "markdown",
   "metadata": {},
   "source": [
    "Use Pandas' drop() to remove the \"Customer Id\" column from our dataframe. \n",
    "\n",
    "Use head() to verify that the column has been removed. "
   ]
  },
  {
   "cell_type": "code",
   "execution_count": null,
   "metadata": {},
   "outputs": [],
   "source": []
  },
  {
   "cell_type": "markdown",
   "metadata": {},
   "source": [
    "Split our dataset into two smaller sets - one with valid values (e.g. 0.0 or 1.0) in the Defaulted column and the other where the Defaulted value is empty/null.\n"
   ]
  },
  {
   "cell_type": "code",
   "execution_count": null,
   "metadata": {},
   "outputs": [],
   "source": [
    "\n"
   ]
  },
  {
   "cell_type": "markdown",
   "metadata": {},
   "source": [
    "Create and Train a KNN model to predict if a given record has a default or non-default status. Use only those records with valid values in the Defaulted column.\n",
    "\n",
    "The X_train data would consist of all rows with a Defaulted value. All columns are used for training, except the 'Defaulted' column.\n",
    "\n",
    "The y_train data would consist of all rows with a value in the Defaulted column."
   ]
  },
  {
   "cell_type": "code",
   "execution_count": null,
   "metadata": {},
   "outputs": [],
   "source": []
  },
  {
   "cell_type": "markdown",
   "metadata": {},
   "source": [
    "Feed records with missing Default value (e.g. no value in the Defaulted column) into our KNN model to predict whether they would have a Default (1.0) or Non-Default value (0.0). Use KNN's predict() function to do so.\n",
    "\n",
    "Print out the predicted Defaulted values."
   ]
  },
  {
   "cell_type": "code",
   "execution_count": null,
   "metadata": {},
   "outputs": [],
   "source": []
  },
  {
   "cell_type": "markdown",
   "metadata": {},
   "source": [
    "Update our dataframe using the predicted Defaulted values, such that all records that initally have missing Defaulted values are now replaced with their respective predicted Defaulted value (either 0.0 or 1.0)."
   ]
  },
  {
   "cell_type": "code",
   "execution_count": null,
   "metadata": {},
   "outputs": [],
   "source": []
  },
  {
   "cell_type": "markdown",
   "metadata": {},
   "source": [
    "Compute and plot the WCSS for 1 to 10 clusters. From the generated WCSS graph, deduce the optimal number of clusters for our dataset using the elbow method."
   ]
  },
  {
   "cell_type": "code",
   "execution_count": null,
   "metadata": {},
   "outputs": [],
   "source": []
  },
  {
   "cell_type": "markdown",
   "metadata": {},
   "source": [
    "Perform KMeans clustering on the dataset using the number of clusters deduced from the WCSS plot.\n",
    "\n",
    "Print out the cluster-allocation for each record in our dataset."
   ]
  },
  {
   "cell_type": "code",
   "execution_count": null,
   "metadata": {},
   "outputs": [],
   "source": [
    "\n"
   ]
  },
  {
   "cell_type": "markdown",
   "metadata": {},
   "source": [
    "Display Scatter plots to display the clustering of results of our dataset. Each data point displayed in the plots should have an unique color that represents the cluster that it is being assigned to.\n",
    "\n",
    "(a) Create a Scatter plot for Age (x-axis) vs Income (y-axis)\n",
    "\n",
    "(b) Create a Scatter plot for DebtIncomeRation (x-axis) vs Income (y-axis)"
   ]
  },
  {
   "cell_type": "code",
   "execution_count": null,
   "metadata": {},
   "outputs": [],
   "source": [
    "              "
   ]
  },
  {
   "cell_type": "markdown",
   "metadata": {},
   "source": [
    "Create a 3D plot with values from Age (x-axis), Income (y-axis) and DebtIncomeRatio (z-axis) columns. "
   ]
  },
  {
   "cell_type": "code",
   "execution_count": null,
   "metadata": {},
   "outputs": [],
   "source": [
    "\t\t"
   ]
  }
 ],
 "metadata": {
  "interpreter": {
   "hash": "1d06f15350b31cd81f03731ed9df95b7246c9107dbc130fa4bad11e6a7891c2c"
  },
  "kernelspec": {
   "display_name": "Python 3.9.5 64-bit ('python39_venv': venv)",
   "language": "python",
   "name": "python3"
  },
  "language_info": {
   "codemirror_mode": {
    "name": "ipython",
    "version": 3
   },
   "file_extension": ".py",
   "mimetype": "text/x-python",
   "name": "python",
   "nbconvert_exporter": "python",
   "pygments_lexer": "ipython3",
   "version": "3.9.5"
  },
  "orig_nbformat": 4
 },
 "nbformat": 4,
 "nbformat_minor": 2
}
