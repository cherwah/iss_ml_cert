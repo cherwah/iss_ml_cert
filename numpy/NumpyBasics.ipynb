{
 "cells": [
  {
   "cell_type": "markdown",
   "metadata": {},
   "source": [
    "# Numpy \n",
    "Numpy (stands for Numerical Python) is a general packages used for processing arrays.  \n",
    "It provides a high performance, multidimensional array object and tools to work with these arrays.  \n",
    "It is popular for scientific computing in Python."
   ]
  },
  {
   "cell_type": "code",
   "execution_count": null,
   "metadata": {},
   "outputs": [],
   "source": [
    "# Numpy array is a grid of values, values are indexed via a set of nonnegative integers.  \n",
    "# Numpy arrays can be initiated from nested Python list.\n",
    "# Need to import numpy library\n",
    "# rank is the number of dimensions in the array\n",
    "\n",
    "import numpy as np"
   ]
  },
  {
   "cell_type": "code",
   "execution_count": null,
   "metadata": {},
   "outputs": [],
   "source": [
    "x = np.array ([10,20,30])"
   ]
  },
  {
   "cell_type": "code",
   "execution_count": null,
   "metadata": {},
   "outputs": [],
   "source": [
    "print(type(x))"
   ]
  },
  {
   "cell_type": "code",
   "execution_count": null,
   "metadata": {},
   "outputs": [],
   "source": [
    "print(x.shape)  # size of the numpy array"
   ]
  },
  {
   "cell_type": "code",
   "execution_count": null,
   "metadata": {},
   "outputs": [],
   "source": [
    "print(x[0], x[1])  # accessing array elements with indexis"
   ]
  },
  {
   "cell_type": "code",
   "execution_count": null,
   "metadata": {},
   "outputs": [],
   "source": [
    "x[0] = 40 # changing array element"
   ]
  },
  {
   "cell_type": "code",
   "execution_count": null,
   "metadata": {},
   "outputs": [],
   "source": [
    "print(x) "
   ]
  },
  {
   "cell_type": "code",
   "execution_count": null,
   "metadata": {},
   "outputs": [],
   "source": [
    "y = np.array([[10,20,30], [40,50,60]])  # create an array of rank 2"
   ]
  },
  {
   "cell_type": "code",
   "execution_count": null,
   "metadata": {},
   "outputs": [],
   "source": [
    "print(y.shape)  # returns number of elements in the array"
   ]
  },
  {
   "cell_type": "code",
   "execution_count": null,
   "metadata": {},
   "outputs": [],
   "source": [
    "print (y[0,0], y[0,1], y[1,2])"
   ]
  },
  {
   "cell_type": "code",
   "execution_count": null,
   "metadata": {},
   "outputs": [],
   "source": [
    "x = np.zeros((2,2)) #create an array of zeros\n",
    "print(x)"
   ]
  },
  {
   "cell_type": "code",
   "execution_count": null,
   "metadata": {},
   "outputs": [],
   "source": [
    "y = np.ones((1,2))  # create an array of ones\n",
    "print(y)"
   ]
  },
  {
   "cell_type": "code",
   "execution_count": null,
   "metadata": {},
   "outputs": [],
   "source": [
    "z = np.full((2,2), 7) # Return a array filled with the value 7\n",
    "print(z)"
   ]
  },
  {
   "cell_type": "code",
   "execution_count": null,
   "metadata": {},
   "outputs": [],
   "source": [
    "a = np.eye(3) # create an identify matrix, 3X3\n",
    "print(a)"
   ]
  },
  {
   "cell_type": "code",
   "execution_count": null,
   "metadata": {},
   "outputs": [],
   "source": [
    "b = np.random.random((2,2)) # create an array of random values\n",
    "print(b)"
   ]
  },
  {
   "cell_type": "code",
   "execution_count": null,
   "metadata": {},
   "outputs": [],
   "source": [
    "myarray = np.array([10,20,30,40], ndmin=2) #ndmin =2, minimum dimensions is 2\n",
    "print(myarray)"
   ]
  },
  {
   "cell_type": "code",
   "execution_count": null,
   "metadata": {},
   "outputs": [],
   "source": [
    "x,y = np.loadtxt('data.txt', skiprows=1, unpack=True) #load dataset from text file,\n",
    "                                                    # skip the first row,\n",
    "                                                    # unpack = True retuns the columns as separate arrays\n",
    "    "
   ]
  },
  {
   "cell_type": "code",
   "execution_count": null,
   "metadata": {},
   "outputs": [],
   "source": [
    "print(x)\n",
    "print(y)"
   ]
  },
  {
   "cell_type": "code",
   "execution_count": null,
   "metadata": {},
   "outputs": [],
   "source": [
    "array2 = np.genfromtxt('data2.txt', skip_header=1,filling_values =-999) #missing value will be -999\n",
    "print(array2)\n",
    "\n",
    "# refer to the doc https://numpy.org/devdocs/user/basics.io.genfromtxt.html#filling-values\n"
   ]
  },
  {
   "cell_type": "code",
   "execution_count": null,
   "metadata": {},
   "outputs": [],
   "source": [
    "array1 = np.arange(start=0.1, stop=7.4, step=2.5) # create an array with starting value, increment value (step), and stop before value 10 is reached\n",
    "print(array1)\n",
    "\n",
    "# save data in text file\n",
    "np.savetxt('out_data.txt', array1, fmt='%f')  # specify the format to be floating point\n",
    "# refer to https://numpy.org/doc/stable/reference/generated/numpy.savetxt.html\n"
   ]
  },
  {
   "cell_type": "code",
   "execution_count": null,
   "metadata": {},
   "outputs": [],
   "source": [
    "a = np.ones ((2,3))\n",
    "print(a)\n",
    "\n",
    "b = np.random.random((2,3))\n",
    "print(b)\n",
    "\n",
    "print(a+b)\n",
    "\n",
    "print(a-b)\n",
    "\n",
    "print(a*b)\n",
    "\n",
    "print(a/b)\n"
   ]
  },
  {
   "cell_type": "code",
   "execution_count": null,
   "metadata": {},
   "outputs": [],
   "source": [
    "x = np.array ([[0,1,2], [3,4,5]])\n",
    "print(x)\n",
    "print(x[1])  # all elements of index 1 (row 1)\n",
    "print(x[0][2])  # element at row 0, column 0\n",
    "print(x[0:2,1]) # element at row 0 and 1 (2-1), column 1\n",
    "print(np.transpose(x))  # transposing the array, which means switch around the array shape\n"
   ]
  },
  {
   "cell_type": "code",
   "execution_count": null,
   "metadata": {},
   "outputs": [],
   "source": []
  }
 ],
 "metadata": {
  "kernelspec": {
   "display_name": "Python 3",
   "language": "python",
   "name": "python3"
  },
  "language_info": {
   "codemirror_mode": {
    "name": "ipython",
    "version": 3
   },
   "file_extension": ".py",
   "mimetype": "text/x-python",
   "name": "python",
   "nbconvert_exporter": "python",
   "pygments_lexer": "ipython3",
   "version": "3.9.4"
  }
 },
 "nbformat": 4,
 "nbformat_minor": 2
}
