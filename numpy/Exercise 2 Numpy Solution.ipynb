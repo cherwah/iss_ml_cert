{
 "cells": [
  {
   "cell_type": "markdown",
   "metadata": {},
   "source": [
    "# Exercise 2 Numpy Solution"
   ]
  },
  {
   "cell_type": "markdown",
   "metadata": {},
   "source": [
    "1) Import numpy package"
   ]
  },
  {
   "cell_type": "code",
   "execution_count": 1,
   "metadata": {},
   "outputs": [],
   "source": [
    "import numpy as np"
   ]
  },
  {
   "cell_type": "markdown",
   "metadata": {},
   "source": [
    "2) Create a list of size 10 with all zeros"
   ]
  },
  {
   "cell_type": "code",
   "execution_count": 2,
   "metadata": {},
   "outputs": [
    {
     "name": "stdout",
     "output_type": "stream",
     "text": [
      "[0. 0. 0. 0. 0. 0. 0. 0. 0. 0.]\n"
     ]
    }
   ],
   "source": [
    "x = np.zeros(10)\n",
    "print(x)"
   ]
  },
  {
   "cell_type": "markdown",
   "metadata": {},
   "source": [
    "3) Create a 3 X 3 Matrix with values ranging from 0 to 8"
   ]
  },
  {
   "cell_type": "code",
   "execution_count": 5,
   "metadata": {},
   "outputs": [
    {
     "name": "stdout",
     "output_type": "stream",
     "text": [
      "[[0 1 2]\n",
      " [3 4 5]\n",
      " [6 7 8]]\n"
     ]
    }
   ],
   "source": [
    "y = np.arange(9).reshape(3, 3)\n",
    "print(y)"
   ]
  },
  {
   "cell_type": "markdown",
   "metadata": {},
   "source": [
    "4) Create a 3 X 3 X 3 array with random values "
   ]
  },
  {
   "cell_type": "code",
   "execution_count": 6,
   "metadata": {},
   "outputs": [
    {
     "name": "stdout",
     "output_type": "stream",
     "text": [
      "[[[0.90364815 0.02473651 0.65251375]\n",
      "  [0.61888226 0.32017219 0.25403573]\n",
      "  [0.55826401 0.24311761 0.47284552]]\n",
      "\n",
      " [[0.87444247 0.80100716 0.69261039]\n",
      "  [0.04103457 0.87073416 0.06402796]\n",
      "  [0.64068291 0.06968456 0.31502028]]\n",
      "\n",
      " [[0.81134471 0.78165645 0.02677342]\n",
      "  [0.0372013  0.23153897 0.79625762]\n",
      "  [0.47456003 0.83582664 0.98761217]]]\n"
     ]
    }
   ],
   "source": [
    "z = np.random.random ((3,3,3))\n",
    "print(z)"
   ]
  },
  {
   "cell_type": "markdown",
   "metadata": {},
   "source": [
    "5) Create a 5 X 5 array with random values.  Find the minimum and maximum values."
   ]
  },
  {
   "cell_type": "code",
   "execution_count": 7,
   "metadata": {},
   "outputs": [
    {
     "name": "stdout",
     "output_type": "stream",
     "text": [
      "[[0.9182764  0.8700646  0.73001946 0.37334    0.81391145]\n",
      " [0.13146162 0.75164138 0.02847779 0.56031353 0.53327935]\n",
      " [0.23503913 0.29720164 0.19502088 0.66506946 0.34496925]\n",
      " [0.8979567  0.48644916 0.39189096 0.68516149 0.43562407]\n",
      " [0.51094515 0.1622206  0.10715744 0.398931   0.91036114]]\n",
      "0.028477788446095054\n",
      "0.9182764030718559\n"
     ]
    }
   ],
   "source": [
    "z = np.random.random((5,5))\n",
    "print(z)\n",
    "print(z.min())\n",
    "print(z.max())"
   ]
  },
  {
   "cell_type": "markdown",
   "metadata": {},
   "source": [
    "6) Create an array of 10 random values.  Rearrange the arrange in order."
   ]
  },
  {
   "cell_type": "code",
   "execution_count": 8,
   "metadata": {},
   "outputs": [
    {
     "name": "stdout",
     "output_type": "stream",
     "text": [
      "[0.14917243 0.40661254 0.13557928 0.0125985  0.40592119 0.18277726\n",
      " 0.06393413 0.3392624  0.96596443 0.22971182]\n",
      "[0.0125985  0.06393413 0.13557928 0.14917243 0.18277726 0.22971182\n",
      " 0.3392624  0.40592119 0.40661254 0.96596443]\n"
     ]
    }
   ],
   "source": [
    "x = np.random.random((10))\n",
    "print(x)\n",
    "x =  np.sort(x)\n",
    "print(x)"
   ]
  },
  {
   "cell_type": "markdown",
   "metadata": {},
   "source": [
    "7) Create an array of 10 random values.  Get the sum and average value of the elements."
   ]
  },
  {
   "cell_type": "code",
   "execution_count": 9,
   "metadata": {},
   "outputs": [
    {
     "name": "stdout",
     "output_type": "stream",
     "text": [
      "[0.35571583 0.74870444 0.49646159 0.44566435 0.72821208 0.95468843\n",
      " 0.86479721 0.60801248 0.04308338 0.00332195]\n",
      "5.248661746820806\n",
      "0.5248661746820806\n"
     ]
    }
   ],
   "source": [
    "x = np.random.random((10))\n",
    "print(x)\n",
    "print(np.sum(x))\n",
    "print(np.average(x))\n"
   ]
  }
 ],
 "metadata": {
  "kernelspec": {
   "display_name": "Python 3",
   "language": "python",
   "name": "python3"
  },
  "language_info": {
   "codemirror_mode": {
    "name": "ipython",
    "version": 3
   },
   "file_extension": ".py",
   "mimetype": "text/x-python",
   "name": "python",
   "nbconvert_exporter": "python",
   "pygments_lexer": "ipython3",
   "version": "3.8.7"
  }
 },
 "nbformat": 4,
 "nbformat_minor": 2
}
